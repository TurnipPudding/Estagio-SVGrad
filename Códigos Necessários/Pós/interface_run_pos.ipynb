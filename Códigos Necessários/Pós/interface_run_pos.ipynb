{
 "cells": [
  {
   "cell_type": "markdown",
   "metadata": {},
   "source": [
    "# Código principal"
   ]
  },
  {
   "cell_type": "code",
   "execution_count": null,
   "metadata": {},
   "outputs": [],
   "source": [
    "import subprocess \n",
    "\n",
    "# Tento executar o script escolhido pelo usuário.\n",
    "try:\n",
    "    # Executo o script utilizando subprocess.\n",
    "    process = subprocess.Popen(\n",
    "        [\"python\", \"interface_final_pos.py\"],  \n",
    "        stdout=subprocess.PIPE, stderr=subprocess.PIPE, text=True\n",
    "    )\n",
    "\n",
    "# Caso algum erro ocorra ao executar o script, alerto o usuário inserindo o erro na janela de saída.\n",
    "except Exception as e:\n",
    "    print(f\"\\nErro ao executar o script: {e}\")\n",
    "    "
   ]
  }
 ],
 "metadata": {
  "kernelspec": {
   "display_name": "base",
   "language": "python",
   "name": "python3"
  },
  "language_info": {
   "codemirror_mode": {
    "name": "ipython",
    "version": 3
   },
   "file_extension": ".py",
   "mimetype": "text/x-python",
   "name": "python",
   "nbconvert_exporter": "python",
   "pygments_lexer": "ipython3",
   "version": "3.11.5"
  }
 },
 "nbformat": 4,
 "nbformat_minor": 2
}
